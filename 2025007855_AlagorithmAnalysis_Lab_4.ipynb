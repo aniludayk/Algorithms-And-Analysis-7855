{
  "nbformat": 4,
  "nbformat_minor": 0,
  "metadata": {
    "colab": {
      "provenance": [],
      "authorship_tag": "ABX9TyNQ/uX1KwWSTvlj4zJbfSVy"
    },
    "kernelspec": {
      "name": "python3",
      "display_name": "Python 3"
    },
    "language_info": {
      "name": "python"
    }
  },
  "cells": [
    {
      "cell_type": "markdown",
      "source": [
        "Implentation of DFS to find shortest path distance between a given node and all other node."
      ],
      "metadata": {
        "id": "tIh0bDFj24Pl"
      }
    },
    {
      "cell_type": "code",
      "execution_count": 7,
      "metadata": {
        "colab": {
          "base_uri": "https://localhost:8080/"
        },
        "id": "Hs8k8d9Q2s97",
        "outputId": "9208ae58-1682-45ee-f716-d6a34775fb5c"
      },
      "outputs": [
        {
          "output_type": "stream",
          "name": "stdout",
          "text": [
            "{'A': 0, 'B': 1, 'D': 1, 'C': 2, 'E': 2, 'G': 3, 'F': 3, 'H': 4, 'I': 4}\n"
          ]
        }
      ],
      "source": [
        "def dfs_shortest_path(graph, start):\n",
        "        distance = {}\n",
        "        current_layer = [start]\n",
        "        next_layer=[]\n",
        "        distance[start] = 0\n",
        "        while(current_layer):\n",
        "          current_node = current_layer.pop(0)\n",
        "          for neighbor in graph[current_node]:\n",
        "            if neighbor not in distance:\n",
        "              distance[neighbor] = distance[current_node] + 1\n",
        "              next_layer.append(neighbor)\n",
        "\n",
        "          if neighbor not in distance:\n",
        "            distance[neighbor] = distance[current_node] + 1\n",
        "            next_layer.append(neighbor)\n",
        "          current_layer = next_layer\n",
        "        return distance\n",
        "\n",
        "graph= {\n",
        "    'A': ['B', 'D'],\n",
        "    'B': ['A', 'C',],\n",
        "    'C': [ 'B', 'G'],\n",
        "    'D': ['A','E'],\n",
        "    'E': ['D','F'],\n",
        "    'F': ['E','G'],\n",
        "    'G': ['H','I','C','F'],\n",
        "    'H': ['G','I'],\n",
        "    'I': ['H','G'],\n",
        "      }\n",
        "dist_path = dfs_shortest_path(graph, 'A')\n",
        "print(dist_path)"
      ]
    },
    {
      "cell_type": "markdown",
      "source": [
        "#Implementating shortest distance from given start node to end node using BFS"
      ],
      "metadata": {
        "id": "6QuEHopgtmKj"
      }
    },
    {
      "cell_type": "code",
      "source": [
        "def shortest_path(graph, start, end):\n",
        "    queue =([(start, 0)])\n",
        "    visited = set()\n",
        "    visited.add(start)\n",
        "\n",
        "    while queue:\n",
        "        node, distance = queue.pop()\n",
        "\n",
        "        if node == end:\n",
        "            return distance\n",
        "\n",
        "        if node in graph:\n",
        "            for neighbor in graph[node]:\n",
        "                if neighbor not in visited:\n",
        "                    queue.append((neighbor, distance + 1))\n",
        "                    visited.add(neighbor)\n",
        "\n",
        "    return -1\n",
        "\n",
        "graph = {\n",
        "    'A': ['B', 'C'],\n",
        "    'B': ['A', 'C', 'D'],\n",
        "    'C': ['E', 'F', 'B', 'A'],\n",
        "    'D': ['B'],\n",
        "    'E': ['C'],\n",
        "    'F': ['C']\n",
        "}\n",
        "\n",
        "start = 'A'\n",
        "end = 'F'\n",
        "\n",
        "path_length = shortest_path(graph, start, end)\n",
        "print(f\"The shortest path length from {start} to {end} is: {path_length}\")"
      ],
      "metadata": {
        "colab": {
          "base_uri": "https://localhost:8080/"
        },
        "id": "0Tj0mjm9s6Zp",
        "outputId": "2ace2dd7-c57b-44f3-ac86-88e88a68a859"
      },
      "execution_count": 2,
      "outputs": [
        {
          "output_type": "stream",
          "name": "stdout",
          "text": [
            "The shortest path length from A to F is: 2\n"
          ]
        }
      ]
    },
    {
      "cell_type": "markdown",
      "source": [
        "#Implementing dfs using recurcive\n"
      ],
      "metadata": {
        "id": "EVc_IiNPuAsn"
      }
    },
    {
      "cell_type": "code",
      "source": [
        "def dfs_recursive(graph, node, visited):\n",
        "    if node not in visited:\n",
        "        print(node, end=\" \")   # Process the node\n",
        "        visited.add(node)\n",
        "        for neighbor in graph[node]:\n",
        "            dfs_recursive(graph, neighbor, visited)\n",
        "\n",
        "# Example usage\n",
        "graph = {\n",
        "    'A': ['B', 'C'],\n",
        "    'B': ['D', 'E'],\n",
        "    'C': ['F'],\n",
        "    'D': [],\n",
        "    'E': ['F'],\n",
        "    'F': []\n",
        "}\n",
        "\n",
        "visited = set()\n",
        "dfs_recursive(graph, 'A', visited)"
      ],
      "metadata": {
        "colab": {
          "base_uri": "https://localhost:8080/"
        },
        "id": "LLwpxeaUs6dZ",
        "outputId": "56ecad33-7f22-4c26-fe0a-fe2905addc20"
      },
      "execution_count": 6,
      "outputs": [
        {
          "output_type": "stream",
          "name": "stdout",
          "text": [
            "A B D E F C "
          ]
        }
      ]
    },
    {
      "cell_type": "markdown",
      "source": [
        "# implementing shortest path using dfs for two nodes"
      ],
      "metadata": {
        "id": "P2GxUXn1uLib"
      }
    },
    {
      "cell_type": "code",
      "source": [
        "def dfs_shortest_path(graph, start, end, path=None, visited=None, shortest=None):\n",
        "    if path is None:\n",
        "        path = []\n",
        "    if visited is None:\n",
        "        visited = set()\n",
        "\n",
        "    path.append(start)\n",
        "    visited.add(start)\n",
        "\n",
        "    # If we reached the end node\n",
        "    if start == end:\n",
        "        if shortest is None or len(path) < len(shortest):\n",
        "            shortest = path.copy()\n",
        "    else:\n",
        "        for neighbor in graph[start]:\n",
        "            if neighbor not in visited:\n",
        "                shortest = dfs_shortest_path(graph, neighbor, end, path, visited, shortest)\n",
        "\n",
        "    # Backtrack\n",
        "    path.pop()\n",
        "    visited.remove(start)\n",
        "\n",
        "    return shortest\n",
        "\n",
        "# Example graph as adjacency list\n",
        "graph = {\n",
        "    'A': ['B', 'C'],\n",
        "    'B': ['D', 'E'],\n",
        "    'C': ['F'],\n",
        "    'D': ['G'],\n",
        "    'E': ['G'],\n",
        "    'F': ['G'],\n",
        "    'G': []\n",
        "}\n",
        "\n",
        "start_node = 'A'\n",
        "end_node = 'G'\n",
        "\n",
        "shortest_path = dfs_shortest_path(graph, start_node, end_node)\n",
        "print(\"Shortest path:\", shortest_path)"
      ],
      "metadata": {
        "colab": {
          "base_uri": "https://localhost:8080/"
        },
        "id": "XfvpQ_oqs6gC",
        "outputId": "1670d37a-9f7f-4fb1-b1ed-4a10e4c65940"
      },
      "execution_count": 5,
      "outputs": [
        {
          "output_type": "stream",
          "name": "stdout",
          "text": [
            "Shortest path: ['A', 'B', 'D', 'G']\n"
          ]
        }
      ]
    }
  ]
}